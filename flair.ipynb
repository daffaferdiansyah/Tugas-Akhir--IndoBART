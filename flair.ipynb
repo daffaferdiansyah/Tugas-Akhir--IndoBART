{
 "cells": [
  {
   "cell_type": "code",
   "execution_count": 5,
   "metadata": {},
   "outputs": [
    {
     "name": "stdout",
     "output_type": "stream",
     "text": [
      "2023-10-31 20:37:37,927 Reading data from C:\\Users\\User\\.flair\\datasets\\ud_indonesian\n",
      "2023-10-31 20:37:37,927 Train: C:\\Users\\User\\.flair\\datasets\\ud_indonesian\\id_gsd-ud-train.conllu\n",
      "2023-10-31 20:37:37,927 Dev: C:\\Users\\User\\.flair\\datasets\\ud_indonesian\\id_gsd-ud-dev.conllu\n",
      "2023-10-31 20:37:37,941 Test: C:\\Users\\User\\.flair\\datasets\\ud_indonesian\\id_gsd-ud-test.conllu\n",
      "2023-10-31 20:37:44,246 Warning: An empty Sentence was created! Are there empty strings in your dataset?\n",
      "2023-10-31 20:37:44,646 Warning: An empty Sentence was created! Are there empty strings in your dataset?\n",
      "2023-10-31 20:37:45,063 Warning: An empty Sentence was created! Are there empty strings in your dataset?\n"
     ]
    }
   ],
   "source": [
    "import flair.datasets\n",
    "corpus = flair.datasets.UD_INDONESIAN()"
   ]
  },
  {
   "cell_type": "code",
   "execution_count": 2,
   "metadata": {},
   "outputs": [
    {
     "name": "stderr",
     "output_type": "stream",
     "text": [
      "C:\\Users\\User\\AppData\\Local\\Temp\\ipykernel_10872\\3418903033.py:2: DeprecationWarning: Call to deprecated method make_tag_dictionary. (Use 'make_label_dictionary' instead.) -- Deprecated since version 0.8.\n",
      "  tag_dictionary = corpus.make_tag_dictionary(tag_type=tag_type)\n"
     ]
    }
   ],
   "source": [
    "tag_type = 'upos'\n",
    "tag_dictionary = corpus.make_tag_dictionary(tag_type=tag_type)"
   ]
  },
  {
   "cell_type": "code",
   "execution_count": 6,
   "metadata": {},
   "outputs": [],
   "source": [
    "from flair.embeddings import TokenEmbeddings, WordEmbeddings, StackedEmbeddings, BertEmbeddings\n",
    "from typing import List\n",
    "embedding_types: List[TokenEmbeddings] = [\n",
    " WordEmbeddings('id-crawl'),\n",
    " WordEmbeddings('id'),\n",
    "]\n",
    "embeddings: StackedEmbeddings = StackedEmbeddings(embeddings=embedding_types)"
   ]
  },
  {
   "cell_type": "code",
   "execution_count": 7,
   "metadata": {},
   "outputs": [
    {
     "name": "stdout",
     "output_type": "stream",
     "text": [
      "2023-10-31 20:44:56,935 SequenceTagger predicts: Dictionary with 20 tags: O, PROPN, AUX, DET, NOUN, PRON, VERB, ADP, PUNCT, ADV, CCONJ, SCONJ, NUM, ADJ, PART, SYM, INTJ, X, <START>, <STOP>\n"
     ]
    }
   ],
   "source": [
    "from flair.models import SequenceTagger\n",
    "tagger: SequenceTagger = SequenceTagger(hidden_size=256,\n",
    "                                        embeddings=embeddings,\n",
    "                                      tag_dictionary=tag_dictionary,\n",
    "                                        tag_type=tag_type,\n",
    "                                        use_crf=True)"
   ]
  },
  {
   "cell_type": "code",
   "execution_count": null,
   "metadata": {},
   "outputs": [],
   "source": [
    "from flair.trainers import ModelTrainer\n",
    "trainer: ModelTrainer = ModelTrainer(tagger, corpus)\n",
    "trainer.train('resources/taggers/example-universal-pos',\n",
    " learning_rate=0.1,\n",
    " mini_batch_size=32,\n",
    " max_epochs=10)"
   ]
  },
  {
   "cell_type": "code",
   "execution_count": 8,
   "metadata": {},
   "outputs": [],
   "source": [
    "from flair.data import Sentence\n",
    "sentence = Sentence('Pada awal pidatonya, Yudhoyono para peserta untuk mengheningkan cipta sejenak bagi korban gempa dan Tsunami di Nanggroe Aceh Darussalam dan Nias, Sumatra Utara.')"
   ]
  },
  {
   "cell_type": "code",
   "execution_count": 9,
   "metadata": {},
   "outputs": [
    {
     "name": "stdout",
     "output_type": "stream",
     "text": [
      "2023-10-31 20:45:43,034 SequenceTagger predicts: Dictionary with 20 tags: O, PROPN, AUX, DET, NOUN, PRON, VERB, ADP, PUNCT, ADV, CCONJ, SCONJ, NUM, ADJ, PART, SYM, INTJ, X, <START>, <STOP>\n",
      "Sentence[26]: \"Pada awal pidatonya, Yudhoyono para peserta untuk mengheningkan cipta sejenak bagi korban gempa dan Tsunami di Nanggroe Aceh Darussalam dan Nias, Sumatra Utara.\" → [\"Pada\"/ADP, \"awal\"/NOUN, \"pidatonya\"/NOUN, \",\"/PUNCT, \"Yudhoyono\"/PROPN, \"para\"/DET, \"peserta\"/NOUN, \"untuk\"/SCONJ, \"mengheningkan\"/VERB, \"cipta\"/NOUN, \"sejenak\"/ADJ, \"bagi\"/ADP, \"korban\"/NOUN, \"gempa\"/NOUN, \"dan\"/CCONJ, \"Tsunami\"/PROPN, \"di\"/ADP, \"Nanggroe\"/PROPN, \"Aceh\"/PROPN, \"Darussalam\"/PROPN, \"dan\"/CCONJ, \"Nias\"/PROPN, \",\"/PUNCT, \"Sumatra\"/PROPN, \"Utara\"/PROPN, \".\"/PUNCT]\n"
     ]
    }
   ],
   "source": [
    "sentence = sentence\n",
    "tag_pos = SequenceTagger.load('resources/taggers/example-universal-pos/best-model.pt')\n",
    "tag_pos.predict(sentence)\n",
    "print(sentence.to_tagged_string())"
   ]
  },
  {
   "cell_type": "code",
   "execution_count": 14,
   "metadata": {},
   "outputs": [
    {
     "name": "stdout",
     "output_type": "stream",
     "text": [
      "26\n"
     ]
    }
   ],
   "source": [
    "print(len(sentence))"
   ]
  },
  {
   "cell_type": "code",
   "execution_count": 12,
   "metadata": {},
   "outputs": [
    {
     "name": "stdout",
     "output_type": "stream",
     "text": [
      "NOUN\n"
     ]
    }
   ],
   "source": [
    "print(sentence[1].tag)"
   ]
  },
  {
   "cell_type": "code",
   "execution_count": 13,
   "metadata": {},
   "outputs": [
    {
     "name": "stdout",
     "output_type": "stream",
     "text": [
      "<bound method DataPoint.get_each_embedding of Sentence[3]: \"aku makan nasi\" → [\"aku\"/PRON, \"makan\"/VERB, \"nasi\"/NOUN]>\n"
     ]
    }
   ],
   "source": [
    "print(sentence.get_each_embedding)"
   ]
  },
  {
   "cell_type": "code",
   "execution_count": 19,
   "metadata": {},
   "outputs": [
    {
     "name": "stdout",
     "output_type": "stream",
     "text": [
      "<class 'str'>\n"
     ]
    }
   ],
   "source": [
    "print(type(sentence[2].tag))"
   ]
  },
  {
   "cell_type": "markdown",
   "metadata": {},
   "source": [
    "### Augmentasi"
   ]
  },
  {
   "cell_type": "code",
   "execution_count": 13,
   "metadata": {},
   "outputs": [],
   "source": [
    "dataset_canonical_dir  = '../Dataset/canonical/train/'"
   ]
  },
  {
   "cell_type": "code",
   "execution_count": null,
   "metadata": {},
   "outputs": [],
   "source": []
  },
  {
   "cell_type": "markdown",
   "metadata": {},
   "source": [
    "### batas"
   ]
  },
  {
   "cell_type": "code",
   "execution_count": 24,
   "metadata": {},
   "outputs": [],
   "source": [
    "import datasets\n",
    "from datasets import load_dataset\n",
    "from datasets import load_from_disk\n",
    "import re"
   ]
  },
  {
   "cell_type": "code",
   "execution_count": 22,
   "metadata": {},
   "outputs": [],
   "source": [
    "raw_dataset = load_dataset(\"id_liputan6\", 'canonical', data_dir=\"../Dataset/\")"
   ]
  },
  {
   "cell_type": "code",
   "execution_count": null,
   "metadata": {},
   "outputs": [],
   "source": [
    "'Presiden Susilo Bambang Yudhoyono memusatkan bahwa tantangan terbesar yang dihadapi bangsa-bangsa Asia dan Afrika jangka ini adalah kasus kesengsaraan yang sangat buruk .'"
   ]
  },
  {
   "cell_type": "code",
   "execution_count": 25,
   "metadata": {},
   "outputs": [],
   "source": [
    "def data_cleaning(data):\n",
    "    article = data['clean_article']\n",
    "\n",
    "    # Remove starting 'Liputan6.com'\n",
    "    \n",
    "    if article.startswith(\"Liputan6.com,\"):\n",
    "        article = re.sub(r'Liputan6.com, [a-zA-z]*:', '', article).lstrip()\n",
    "\n",
    "    # Remove author name at the end (pattern: (NAME))\n",
    "    article = re.sub(r'\\(\\w+\\/[\\w\\s]+ [\\w\\s]+\\).', '', article).rstrip()\n",
    "\n",
    "    # Store the cleansed article back into the example\n",
    "    data['clean_article'] = article\n",
    "    return data"
   ]
  },
  {
   "cell_type": "code",
   "execution_count": 26,
   "metadata": {},
   "outputs": [],
   "source": [
    "dataset = raw_dataset.map(data_cleaning)"
   ]
  },
  {
   "cell_type": "code",
   "execution_count": 65,
   "metadata": {},
   "outputs": [
    {
     "name": "stdout",
     "output_type": "stream",
     "text": [
      "Sentence[148]: \"Partai Bulan Bintang wilayah Maluku bertekad membantu pemerintah menyelesaikan konflik di provinsi tersebut. Syaratnya, penanganan penyelesaian konflik Maluku harus dimulai dari awal kerusuhan, yakni 19 Januari 1999. Demikian hasil Musyawarah Wilayah I PBB Maluku yang dimulai Sabtu pekan silam dan berakhir Senin (31/12) di Ambon. Menurut seorang fungsionaris PBB Ridwan Hasan, persoalan di Maluku bisa selesai asalkan pemerintah dan aparat keamanan serius menangani setiap persoalan di Maluku secara komprehensif dan bijaksana. Itulah sebabnya, PBB wilayah Maluku akan menjadikan penyelesaian konflik sebagai agenda utama partai. PBB Maluku juga akan mendukung penegakan hukum secara terpadu dan tanpa pandang bulu. Siapa saja yang melanggar hukum harus ditindak. Ridwan berharap, Ketua PBB Maluku yang baru, Ali Fauzi, dapat menindak lanjuti agenda politik partai yang telah diamanatkan dan mau mendukung penegakan hukum di Maluku.\"\n"
     ]
    }
   ],
   "source": [
    "text = dataset['train'][0]['clean_article']\n",
    "sentence = Sentence(text)\n",
    "print(sentence)"
   ]
  },
  {
   "cell_type": "code",
   "execution_count": 66,
   "metadata": {},
   "outputs": [
    {
     "name": "stdout",
     "output_type": "stream",
     "text": [
      "<class 'flair.data.Sentence'>\n"
     ]
    }
   ],
   "source": [
    "print(type(sentence))"
   ]
  },
  {
   "cell_type": "code",
   "execution_count": 67,
   "metadata": {},
   "outputs": [
    {
     "name": "stdout",
     "output_type": "stream",
     "text": [
      "2023-10-24 13:36:16,429 SequenceTagger predicts: Dictionary with 20 tags: O, PROPN, AUX, DET, NOUN, PRON, VERB, ADP, PUNCT, ADV, CCONJ, SCONJ, NUM, ADJ, PART, SYM, INTJ, X, <START>, <STOP>\n",
      "Sentence[148]: \"Partai Bulan Bintang wilayah Maluku bertekad membantu pemerintah menyelesaikan konflik di provinsi tersebut. Syaratnya, penanganan penyelesaian konflik Maluku harus dimulai dari awal kerusuhan, yakni 19 Januari 1999. Demikian hasil Musyawarah Wilayah I PBB Maluku yang dimulai Sabtu pekan silam dan berakhir Senin (31/12) di Ambon. Menurut seorang fungsionaris PBB Ridwan Hasan, persoalan di Maluku bisa selesai asalkan pemerintah dan aparat keamanan serius menangani setiap persoalan di Maluku secara komprehensif dan bijaksana. Itulah sebabnya, PBB wilayah Maluku akan menjadikan penyelesaian konflik sebagai agenda utama partai. PBB Maluku juga akan mendukung penegakan hukum secara terpadu dan tanpa pandang bulu. Siapa saja yang melanggar hukum harus ditindak. Ridwan berharap, Ketua PBB Maluku yang baru, Ali Fauzi, dapat menindak lanjuti agenda politik partai yang telah diamanatkan dan mau mendukung penegakan hukum di Maluku.\" → [\"Partai\"/PROPN, \"Bulan\"/PROPN, \"Bintang\"/PROPN, \"wilayah\"/NOUN, \"Maluku\"/PROPN, \"bertekad\"/VERB, \"membantu\"/VERB, \"pemerintah\"/NOUN, \"menyelesaikan\"/VERB, \"konflik\"/NOUN, \"di\"/ADP, \"provinsi\"/NOUN, \"tersebut\"/DET, \".\"/PUNCT, \"Syaratnya\"/NOUN, \",\"/PUNCT, \"penanganan\"/NOUN, \"penyelesaian\"/NOUN, \"konflik\"/NOUN, \"Maluku\"/PROPN, \"harus\"/AUX, \"dimulai\"/VERB, \"dari\"/ADP, \"awal\"/NOUN, \"kerusuhan\"/NOUN, \",\"/PUNCT, \"yakni\"/ADP, \"19\"/NUM, \"Januari\"/PROPN, \"1999\"/NUM, \".\"/PUNCT, \"Demikian\"/VERB, \"hasil\"/NOUN, \"Musyawarah\"/NOUN, \"Wilayah\"/NOUN, \"I\"/PROPN, \"PBB\"/PROPN, \"Maluku\"/PROPN, \"yang\"/PRON, \"dimulai\"/VERB, \"Sabtu\"/NOUN, \"pekan\"/NOUN, \"silam\"/NOUN, \"dan\"/CCONJ, \"berakhir\"/VERB, \"Senin\"/PROPN, \"(\"/PUNCT, \"31\"/NUM, \"/\"/PUNCT, \"12\"/NUM, \")\"/PUNCT, \"di\"/ADP, \"Ambon\"/PROPN, \".\"/PUNCT, \"Menurut\"/VERB, \"seorang\"/DET, \"fungsionaris\"/NOUN, \"PBB\"/PROPN, \"Ridwan\"/PROPN, \"Hasan\"/PROPN, \",\"/PUNCT, \"persoalan\"/NOUN, \"di\"/ADP, \"Maluku\"/PROPN, \"bisa\"/AUX, \"selesai\"/VERB, \"asalkan\"/ADP, \"pemerintah\"/NOUN, \"dan\"/CCONJ, \"aparat\"/NOUN, \"keamanan\"/NOUN, \"serius\"/ADJ, \"menangani\"/VERB, \"setiap\"/DET, \"persoalan\"/NOUN, \"di\"/ADP, \"Maluku\"/PROPN, \"secara\"/ADP, \"komprehensif\"/ADJ, \"dan\"/CCONJ, \"bijaksana\"/ADJ, \".\"/PUNCT, \"Itulah\"/ADV, \"sebabnya\"/ADV, \",\"/PUNCT, \"PBB\"/NOUN, \"wilayah\"/NOUN, \"Maluku\"/PROPN, \"akan\"/AUX, \"menjadikan\"/VERB, \"penyelesaian\"/NOUN, \"konflik\"/NOUN, \"sebagai\"/ADP, \"agenda\"/NOUN, \"utama\"/ADJ, \"partai\"/NOUN, \".\"/PUNCT, \"PBB\"/PROPN, \"Maluku\"/PROPN, \"juga\"/ADV, \"akan\"/AUX, \"mendukung\"/VERB, \"penegakan\"/NOUN, \"hukum\"/NOUN, \"secara\"/ADP, \"terpadu\"/ADJ, \"dan\"/CCONJ, \"tanpa\"/ADP, \"pandang\"/NOUN, \"bulu\"/NOUN, \".\"/PUNCT, \"Siapa\"/PRON, \"saja\"/ADV, \"yang\"/PRON, \"melanggar\"/VERB, \"hukum\"/NOUN, \"harus\"/AUX, \"ditindak\"/VERB, \".\"/PUNCT, \"Ridwan\"/PROPN, \"berharap\"/VERB, \",\"/PUNCT, \"Ketua\"/PROPN, \"PBB\"/PROPN, \"Maluku\"/PROPN, \"yang\"/PRON, \"baru\"/ADJ, \",\"/PUNCT, \"Ali\"/PROPN, \"Fauzi\"/PROPN, \",\"/PUNCT, \"dapat\"/AUX, \"menindak\"/VERB, \"lanjuti\"/VERB, \"agenda\"/NOUN, \"politik\"/NOUN, \"partai\"/NOUN, \"yang\"/PRON, \"telah\"/AUX, \"diamanatkan\"/VERB, \"dan\"/CCONJ, \"mau\"/AUX, \"mendukung\"/VERB, \"penegakan\"/NOUN, \"hukum\"/NOUN, \"di\"/ADP, \"Maluku\"/PROPN, \".\"/PUNCT]\n"
     ]
    }
   ],
   "source": [
    "sentence = sentence\n",
    "tag_pos = SequenceTagger.load('resources/taggers/example-universal-pos/best-model.pt')\n",
    "tag_pos.predict(sentence)\n",
    "print(sentence.to_tagged_string())"
   ]
  },
  {
   "cell_type": "code",
   "execution_count": 69,
   "metadata": {},
   "outputs": [],
   "source": [
    "sentence = \"Aku <mask> makan nasi\""
   ]
  },
  {
   "cell_type": "markdown",
   "metadata": {},
   "source": [
    "### Tesaurus"
   ]
  },
  {
   "cell_type": "code",
   "execution_count": 1,
   "metadata": {},
   "outputs": [
    {
     "ename": "AttributeError",
     "evalue": "'NoneType' object has no attribute 'children'",
     "output_type": "error",
     "traceback": [
      "\u001b[1;31m---------------------------------------------------------------------------\u001b[0m",
      "\u001b[1;31mAttributeError\u001b[0m                            Traceback (most recent call last)",
      "\u001b[1;32md:\\KULIAH\\SMT 7\\TA\\Ngoding\\tugas-akhir\\pos-tagging\\flair.ipynb Cell 21\u001b[0m line \u001b[0;36m4\n\u001b[0;32m      <a href='vscode-notebook-cell:/d%3A/KULIAH/SMT%207/TA/Ngoding/tugas-akhir/pos-tagging/flair.ipynb#X52sZmlsZQ%3D%3D?line=0'>1</a>\u001b[0m \u001b[39mfrom\u001b[39;00m \u001b[39mtesaurus\u001b[39;00m \u001b[39mimport\u001b[39;00m Tesaurus\n\u001b[0;32m      <a href='vscode-notebook-cell:/d%3A/KULIAH/SMT%207/TA/Ngoding/tugas-akhir/pos-tagging/flair.ipynb#X52sZmlsZQ%3D%3D?line=2'>3</a>\u001b[0m te \u001b[39m=\u001b[39m Tesaurus()\n\u001b[1;32m----> <a href='vscode-notebook-cell:/d%3A/KULIAH/SMT%207/TA/Ngoding/tugas-akhir/pos-tagging/flair.ipynb#X52sZmlsZQ%3D%3D?line=3'>4</a>\u001b[0m te\u001b[39m.\u001b[39;49mcari(\u001b[39m\"\u001b[39;49m\u001b[39mmakan\u001b[39;49m\u001b[39m\"\u001b[39;49m)\n\u001b[0;32m      <a href='vscode-notebook-cell:/d%3A/KULIAH/SMT%207/TA/Ngoding/tugas-akhir/pos-tagging/flair.ipynb#X52sZmlsZQ%3D%3D?line=4'>5</a>\u001b[0m \u001b[39mprint\u001b[39m(te)\n",
      "File \u001b[1;32mc:\\Users\\User\\anaconda3\\envs\\tugasakhir\\lib\\site-packages\\tesaurus\\tesaurus.py:103\u001b[0m, in \u001b[0;36mTesaurus.cari\u001b[1;34m(self, kueri, kelas_kata)\u001b[0m\n\u001b[0;32m    101\u001b[0m \u001b[39mtry\u001b[39;00m:\n\u001b[0;32m    102\u001b[0m     \u001b[39mself\u001b[39m\u001b[39m.\u001b[39m_logger\u001b[39m.\u001b[39mdebug(\u001b[39m\"\u001b[39m\u001b[39mMengumpulkan hasil...\u001b[39m\u001b[39m\"\u001b[39m)\n\u001b[1;32m--> 103\u001b[0m     \u001b[39mself\u001b[39;49m\u001b[39m.\u001b[39;49m_buat_entri(laman\u001b[39m.\u001b[39;49mtext)\n\u001b[0;32m    104\u001b[0m     \u001b[39mself\u001b[39m\u001b[39m.\u001b[39m_buat_terkait(laman\u001b[39m.\u001b[39mtext)\n\u001b[0;32m    105\u001b[0m \u001b[39mexcept\u001b[39;00m TesaurusGalat \u001b[39mas\u001b[39;00m errtg:\n",
      "File \u001b[1;32mc:\\Users\\User\\anaconda3\\envs\\tugasakhir\\lib\\site-packages\\tesaurus\\tesaurus.py:153\u001b[0m, in \u001b[0;36mTesaurus._buat_entri\u001b[1;34m(self, laman)\u001b[0m\n\u001b[0;32m    151\u001b[0m htmlstr \u001b[39m=\u001b[39m \u001b[39m\"\u001b[39m\u001b[39m\"\u001b[39m\n\u001b[0;32m    152\u001b[0m result_contain \u001b[39m=\u001b[39m sup\u001b[39m.\u001b[39mfind(\u001b[39m\"\u001b[39m\u001b[39mdiv\u001b[39m\u001b[39m\"\u001b[39m, {\u001b[39m\"\u001b[39m\u001b[39mclass\u001b[39m\u001b[39m\"\u001b[39m: \u001b[39m\"\u001b[39m\u001b[39mcontain\u001b[39m\u001b[39m\"\u001b[39m})\n\u001b[1;32m--> 153\u001b[0m \u001b[39mfor\u001b[39;00m child \u001b[39min\u001b[39;00m result_contain\u001b[39m.\u001b[39;49mchildren:\n\u001b[0;32m    154\u001b[0m     \u001b[39mif\u001b[39;00m \u001b[39mnot\u001b[39;00m htmlstr \u001b[39mand\u001b[39;00m child\u001b[39m.\u001b[39mget(\u001b[39m\"\u001b[39m\u001b[39mclass\u001b[39m\u001b[39m\"\u001b[39m)[\u001b[39m0\u001b[39m] \u001b[39m==\u001b[39m \u001b[39m\"\u001b[39m\u001b[39mresult-postag\u001b[39m\u001b[39m\"\u001b[39m:\n\u001b[0;32m    155\u001b[0m         htmlstr \u001b[39m+\u001b[39m\u001b[39m=\u001b[39m \u001b[39mstr\u001b[39m(child)\n",
      "\u001b[1;31mAttributeError\u001b[0m: 'NoneType' object has no attribute 'children'"
     ]
    }
   ],
   "source": [
    "from tesaurus import Tesaurus\n",
    "\n",
    "te = Tesaurus()\n",
    "te.cari(\"makan\")\n",
    "print(te)"
   ]
  },
  {
   "cell_type": "markdown",
   "metadata": {},
   "source": [
    "### Tradisional"
   ]
  },
  {
   "cell_type": "code",
   "execution_count": 37,
   "metadata": {},
   "outputs": [],
   "source": [
    "import os"
   ]
  },
  {
   "cell_type": "code",
   "execution_count": 38,
   "metadata": {},
   "outputs": [],
   "source": [
    "def countFiles(directory):\n",
    "    i = 0\n",
    "    for file in os.scandir(directory):\n",
    "        if file.is_file():\n",
    "            i +=1\n",
    "    return i"
   ]
  },
  {
   "cell_type": "code",
   "execution_count": 39,
   "metadata": {},
   "outputs": [
    {
     "name": "stdout",
     "output_type": "stream",
     "text": [
      "193883\n"
     ]
    }
   ],
   "source": [
    "print(countFiles(dataset_canonical_dir))"
   ]
  },
  {
   "cell_type": "code",
   "execution_count": 48,
   "metadata": {},
   "outputs": [],
   "source": [
    "import json\n",
    "def getArticle(filename):\n",
    "    data = json.load(open(filename, \"r\"))\n",
    "    article = data['clean_article']\n",
    "\n",
    "    # Remove starting 'Liputan6.com'\n",
    "    \n",
    "    if article.startswith(\"Liputan6.com,\"):\n",
    "        article = re.sub(r'Liputan6.com, [a-zA-z]*:', '', article).lstrip()\n",
    "\n",
    "    # Remove author name at the end (pattern: (NAME))\n",
    "    article = re.sub(r'\\(\\w+\\/[\\w\\s]+ [\\w\\s]+\\).', '', article).rstrip()\n",
    "\n",
    "    # Store the cleansed article back into the example\n",
    "    data['clean_article'] = article\n",
    "    return data"
   ]
  },
  {
   "cell_type": "code",
   "execution_count": 49,
   "metadata": {},
   "outputs": [
    {
     "ename": "AttributeError",
     "evalue": "'list' object has no attribute 'startswith'",
     "output_type": "error",
     "traceback": [
      "\u001b[1;31m---------------------------------------------------------------------------\u001b[0m",
      "\u001b[1;31mAttributeError\u001b[0m                            Traceback (most recent call last)",
      "\u001b[1;32md:\\KULIAH\\SMT 7\\TA\\Ngoding\\tugas-akhir\\pos-tagging\\flair.ipynb Cell 22\u001b[0m line \u001b[0;36m8\n\u001b[0;32m      <a href='vscode-notebook-cell:/d%3A/KULIAH/SMT%207/TA/Ngoding/tugas-akhir/pos-tagging/flair.ipynb#X36sZmlsZQ%3D%3D?line=4'>5</a>\u001b[0m file_name \u001b[39m=\u001b[39m os\u001b[39m.\u001b[39mpath\u001b[39m.\u001b[39msplitext(file)[\u001b[39m0\u001b[39m] \u001b[39m+\u001b[39m \u001b[39m\"\u001b[39m\u001b[39m.json\u001b[39m\u001b[39m\"\u001b[39m\n\u001b[0;32m      <a href='vscode-notebook-cell:/d%3A/KULIAH/SMT%207/TA/Ngoding/tugas-akhir/pos-tagging/flair.ipynb#X36sZmlsZQ%3D%3D?line=6'>7</a>\u001b[0m \u001b[39mif\u001b[39;00m file\u001b[39m.\u001b[39mis_file():\n\u001b[1;32m----> <a href='vscode-notebook-cell:/d%3A/KULIAH/SMT%207/TA/Ngoding/tugas-akhir/pos-tagging/flair.ipynb#X36sZmlsZQ%3D%3D?line=7'>8</a>\u001b[0m     \u001b[39mprint\u001b[39m(getArticle(file_name))\n\u001b[0;32m     <a href='vscode-notebook-cell:/d%3A/KULIAH/SMT%207/TA/Ngoding/tugas-akhir/pos-tagging/flair.ipynb#X36sZmlsZQ%3D%3D?line=9'>10</a>\u001b[0m \u001b[39mif\u001b[39;00m jml \u001b[39m==\u001b[39m \u001b[39m1\u001b[39m:\n\u001b[0;32m     <a href='vscode-notebook-cell:/d%3A/KULIAH/SMT%207/TA/Ngoding/tugas-akhir/pos-tagging/flair.ipynb#X36sZmlsZQ%3D%3D?line=10'>11</a>\u001b[0m     \u001b[39mbreak\u001b[39;00m\n",
      "\u001b[1;32md:\\KULIAH\\SMT 7\\TA\\Ngoding\\tugas-akhir\\pos-tagging\\flair.ipynb Cell 22\u001b[0m line \u001b[0;36m8\n\u001b[0;32m      <a href='vscode-notebook-cell:/d%3A/KULIAH/SMT%207/TA/Ngoding/tugas-akhir/pos-tagging/flair.ipynb#X36sZmlsZQ%3D%3D?line=3'>4</a>\u001b[0m article \u001b[39m=\u001b[39m data[\u001b[39m'\u001b[39m\u001b[39mclean_article\u001b[39m\u001b[39m'\u001b[39m]\n\u001b[0;32m      <a href='vscode-notebook-cell:/d%3A/KULIAH/SMT%207/TA/Ngoding/tugas-akhir/pos-tagging/flair.ipynb#X36sZmlsZQ%3D%3D?line=5'>6</a>\u001b[0m \u001b[39m# Remove starting 'Liputan6.com'\u001b[39;00m\n\u001b[1;32m----> <a href='vscode-notebook-cell:/d%3A/KULIAH/SMT%207/TA/Ngoding/tugas-akhir/pos-tagging/flair.ipynb#X36sZmlsZQ%3D%3D?line=7'>8</a>\u001b[0m \u001b[39mif\u001b[39;00m article\u001b[39m.\u001b[39;49mstartswith(\u001b[39m\"\u001b[39m\u001b[39mLiputan6.com,\u001b[39m\u001b[39m\"\u001b[39m):\n\u001b[0;32m      <a href='vscode-notebook-cell:/d%3A/KULIAH/SMT%207/TA/Ngoding/tugas-akhir/pos-tagging/flair.ipynb#X36sZmlsZQ%3D%3D?line=8'>9</a>\u001b[0m     article \u001b[39m=\u001b[39m re\u001b[39m.\u001b[39msub(\u001b[39mr\u001b[39m\u001b[39m'\u001b[39m\u001b[39mLiputan6.com, [a-zA-z]*:\u001b[39m\u001b[39m'\u001b[39m, \u001b[39m'\u001b[39m\u001b[39m'\u001b[39m, article)\u001b[39m.\u001b[39mlstrip()\n\u001b[0;32m     <a href='vscode-notebook-cell:/d%3A/KULIAH/SMT%207/TA/Ngoding/tugas-akhir/pos-tagging/flair.ipynb#X36sZmlsZQ%3D%3D?line=10'>11</a>\u001b[0m \u001b[39m# Remove author name at the end (pattern: (NAME))\u001b[39;00m\n",
      "\u001b[1;31mAttributeError\u001b[0m: 'list' object has no attribute 'startswith'"
     ]
    }
   ],
   "source": [
    "jml = 0\n",
    "for file in os.scandir(dataset_canonical_dir):\n",
    "    translated_article = []\n",
    "    jml += 1\n",
    "    file_name = os.path.splitext(file)[0] + \".json\"\n",
    "\n",
    "    if file.is_file():\n",
    "        print(getArticle(file_name))\n",
    "\n",
    "    if jml == 1:\n",
    "        break"
   ]
  },
  {
   "cell_type": "code",
   "execution_count": 42,
   "metadata": {},
   "outputs": [],
   "source": [
    "def data_cleaning(data):\n",
    "    article = data['clean_article']\n",
    "\n",
    "    # Remove starting 'Liputan6.com'\n",
    "    \n",
    "    if article.startswith(\"Liputan6.com,\"):\n",
    "        article = re.sub(r'Liputan6.com, [a-zA-z]*:', '', article).lstrip()\n",
    "\n",
    "    # Remove author name at the end (pattern: (NAME))\n",
    "    article = re.sub(r'\\(\\w+\\/[\\w\\s]+ [\\w\\s]+\\).', '', article).rstrip()\n",
    "\n",
    "    # Store the cleansed article back into the example\n",
    "    data['clean_article'] = article\n",
    "    return data"
   ]
  },
  {
   "cell_type": "code",
   "execution_count": null,
   "metadata": {},
   "outputs": [],
   "source": []
  }
 ],
 "metadata": {
  "kernelspec": {
   "display_name": "tugasakhir",
   "language": "python",
   "name": "python3"
  },
  "language_info": {
   "codemirror_mode": {
    "name": "ipython",
    "version": 3
   },
   "file_extension": ".py",
   "mimetype": "text/x-python",
   "name": "python",
   "nbconvert_exporter": "python",
   "pygments_lexer": "ipython3",
   "version": "3.9.18"
  }
 },
 "nbformat": 4,
 "nbformat_minor": 2
}
