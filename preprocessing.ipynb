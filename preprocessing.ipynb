{
 "cells": [
  {
   "cell_type": "code",
   "execution_count": 1,
   "metadata": {},
   "outputs": [
    {
     "name": "stderr",
     "output_type": "stream",
     "text": [
      "c:\\Users\\User\\anaconda3\\envs\\tugasakhir\\lib\\site-packages\\tqdm\\auto.py:21: TqdmWarning: IProgress not found. Please update jupyter and ipywidgets. See https://ipywidgets.readthedocs.io/en/stable/user_install.html\n",
      "  from .autonotebook import tqdm as notebook_tqdm\n"
     ]
    }
   ],
   "source": [
    "import json\n",
    "import os\n",
    "import datasets\n",
    "import re"
   ]
  },
  {
   "cell_type": "code",
   "execution_count": 2,
   "metadata": {},
   "outputs": [],
   "source": [
    "def getArticleAndSummary(filename):\n",
    "    data = json.load(open(filename, \"r\"))\n",
    "    new_data = {\n",
    "                \"clean_article\": data['clean_article'],\n",
    "                \"clean_summary\": data['clean_summary'],\n",
    "            }\n",
    "    return(new_data)\n"
   ]
  },
  {
   "cell_type": "code",
   "execution_count": 14,
   "metadata": {},
   "outputs": [],
   "source": [
    "def joinArticle(data):\n",
    "    article = []\n",
    "    for i in range(len(data['clean_article'])):\n",
    "        line = \" \".join(data['clean_article'][i])\n",
    "        article.append(line)\n",
    "    data['clean_article'] = article\n",
    "    return data"
   ]
  },
  {
   "cell_type": "code",
   "execution_count": 4,
   "metadata": {},
   "outputs": [],
   "source": [
    "def removeNewsTag(data):\n",
    "    if article.startswith(\"Liputan6.com,\"):\n",
    "        article = article[len(\"Liputan6.com,\")+2:].lstrip()\n",
    "    result = data['clean_article'][0][6:]\n",
    "    data['clean_article'][0] = result\n",
    "    return data"
   ]
  },
  {
   "cell_type": "code",
   "execution_count": 15,
   "metadata": {},
   "outputs": [],
   "source": [
    "def joinSummary(data):\n",
    "    summary = []\n",
    "    for i in range(len(data['clean_summary'])):\n",
    "        line = \" \".join(data['clean_summary'][i])\n",
    "        summary.append(line)\n",
    "    data['clean_summary'] = summary\n",
    "    return data"
   ]
  },
  {
   "cell_type": "code",
   "execution_count": 7,
   "metadata": {},
   "outputs": [],
   "source": [
    "def cleanData(filename):\n",
    "    data = getArticleAndSummary(filename)\n",
    "    data = removeNewsTag(data)\n",
    "    data = joinArticle(data)\n",
    "    data = joinSummary(data)\n",
    "    return data\n",
    "\n"
   ]
  },
  {
   "cell_type": "code",
   "execution_count": 8,
   "metadata": {},
   "outputs": [],
   "source": [
    "root_dir = \"D:/KULIAH/SMT 7/TA/Ngoding/liputan6_data/canonical/train/\""
   ]
  },
  {
   "cell_type": "code",
   "execution_count": 24,
   "metadata": {},
   "outputs": [],
   "source": [
    "i = 0\n",
    "max_files = 100\n",
    "for file in os.scandir(root_dir):\n",
    "    i += 1\n",
    "    file_name = os.path.splitext(file)[0] + \".json\"\n",
    "    if file.is_file():\n",
    "        cleaned_data = cleanData(file_name)\n",
    "\n",
    "    file_path = \"../Preprocessed_data/canonical/train/prep{}.json\".format(i)\n",
    "    with open(file_path, \"w\") as json_file:\n",
    "            json.dump(cleaned_data, json_file)\n",
    "    if i >= max_files:\n",
    "        break\n",
    "        "
   ]
  }
 ],
 "metadata": {
  "kernelspec": {
   "display_name": "tugasakhir",
   "language": "python",
   "name": "python3"
  },
  "language_info": {
   "codemirror_mode": {
    "name": "ipython",
    "version": 3
   },
   "file_extension": ".py",
   "mimetype": "text/x-python",
   "name": "python",
   "nbconvert_exporter": "python",
   "pygments_lexer": "ipython3",
   "version": "3.9.18"
  }
 },
 "nbformat": 4,
 "nbformat_minor": 2
}
